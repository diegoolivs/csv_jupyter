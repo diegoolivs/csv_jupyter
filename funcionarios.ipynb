{
 "cells": [
  {
   "cell_type": "code",
   "execution_count": 13,
   "metadata": {},
   "outputs": [],
   "source": [
    "import csv\n",
    "\n",
    "# Criaçao de arquivo\n",
    "with open(\"funcionarios.csv\", \"w\") as arq3:\n",
    "    writer = csv.writer(arq3)\n",
    "    writer.writerow((\"nome\", \"matricula\", \"setor\"))\n",
    "    writer.writerow((\"Diego\", 34352, \"LMS-REMOTA\"))\n",
    "    writer.writerow((\"Ramon\", 23143, \"LMS-DOL\"))\n",
    "    writer.writerow((\"Joao\", 23223, \"LMS-DOL\"))\n",
    "    writer.writerow((\"Nicole\", 42343, \"LMS-REMOTA\"))\n",
    "    writer.writerow((\"Bento\", 42342, \"LMS-GRADUACAO\"))\n",
    "    writer.writerow((\"Kesia\", 23464, \"LMS-REMOTA\"))"
   ]
  },
  {
   "cell_type": "code",
   "execution_count": 14,
   "metadata": {},
   "outputs": [
    {
     "name": "stdout",
     "output_type": "stream",
     "text": [
      "['nome', 'matricula', 'setor']\n",
      "['Diego', '34352', 'LMS-REMOTA']\n",
      "['Ramon', '23143', 'LMS-DOL']\n",
      "['Joao', '23223', 'LMS-DOL']\n",
      "['Nicole', '42343', 'LMS-REMOTA']\n",
      "['Bento', '42342', 'LMS-GRADUACAO']\n",
      "['Kesia', '23464', 'LMS-REMOTA']\n"
     ]
    }
   ],
   "source": [
    "# Visualizaçao de dados do arquivo\n",
    "with open(\"funcionarios.csv\", \"r\", encoding=\"utf8\", newline=\"\\r\\n\") as arq3:\n",
    "    read = csv.reader(arq3)\n",
    "    for i in read:\n",
    "        print(i)"
   ]
  },
  {
   "cell_type": "code",
   "execution_count": 15,
   "metadata": {},
   "outputs": [],
   "source": [
    "# transformação do csv em formato lista\n",
    "with open(\"funcionarios.csv\", \"r\", encoding=\"utf8\", newline=\"\\r\\n\") as arq3:\n",
    "    leitor = csv.reader(arq3)\n",
    "    dados = list(leitor)"
   ]
  },
  {
   "cell_type": "code",
   "execution_count": 16,
   "metadata": {},
   "outputs": [
    {
     "name": "stdout",
     "output_type": "stream",
     "text": [
      "[['nome', 'matricula', 'setor'], ['Diego', '34352', 'LMS-REMOTA'], ['Ramon', '23143', 'LMS-DOL'], ['Joao', '23223', 'LMS-DOL'], ['Nicole', '42343', 'LMS-REMOTA'], ['Bento', '42342', 'LMS-GRADUACAO'], ['Kesia', '23464', 'LMS-REMOTA']]\n"
     ]
    }
   ],
   "source": [
    "print(dados)"
   ]
  },
  {
   "cell_type": "code",
   "execution_count": 17,
   "metadata": {},
   "outputs": [
    {
     "name": "stdout",
     "output_type": "stream",
     "text": [
      "['Diego', '34352', 'LMS-REMOTA']\n",
      "['Ramon', '23143', 'LMS-DOL']\n",
      "['Joao', '23223', 'LMS-DOL']\n",
      "['Nicole', '42343', 'LMS-REMOTA']\n",
      "['Bento', '42342', 'LMS-GRADUACAO']\n",
      "['Kesia', '23464', 'LMS-REMOTA']\n"
     ]
    }
   ],
   "source": [
    "#mostrando apenas os valores\n",
    "for row in dados[1:]:\n",
    "    print(row)"
   ]
  }
 ],
 "metadata": {
  "kernelspec": {
   "display_name": "base",
   "language": "python",
   "name": "python3"
  },
  "language_info": {
   "codemirror_mode": {
    "name": "ipython",
    "version": 3
   },
   "file_extension": ".py",
   "mimetype": "text/x-python",
   "name": "python",
   "nbconvert_exporter": "python",
   "pygments_lexer": "ipython3",
   "version": "3.10.9"
  }
 },
 "nbformat": 4,
 "nbformat_minor": 2
}
